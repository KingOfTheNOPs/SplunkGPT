{
 "cells": [
  {
   "cell_type": "markdown",
   "metadata": {
    "id": "nKF-1Q8lihfi"
   },
   "source": [
    "# Imports and Helpers"
   ]
  },
  {
   "cell_type": "markdown",
   "metadata": {
    "id": "N77iGbGw-4Wz"
   },
   "source": [
    "Imports and variables for presentation"
   ]
  },
  {
   "cell_type": "code",
   "execution_count": null,
   "metadata": {
    "colab": {
     "base_uri": "https://localhost:8080/"
    },
    "id": "qCcWK6MI_q3h",
    "outputId": "2ada8cec-0779-445d-aef2-07fbca9cb31a"
   },
   "outputs": [],
   "source": [
    "!pip install langchain openai transformers typing python-dotenv google-search-results splunk-sdk tiktoken PyPDF2 faiss-cpu transformers torch onnxruntime==1.12.1 "
   ]
  },
  {
   "cell_type": "code",
   "execution_count": null,
   "metadata": {
    "id": "Ede4KH0W-07z"
   },
   "outputs": [],
   "source": [
    "import os\n",
    "import openai\n",
    "import json\n",
    "from dotenv import load_dotenv\n",
    "from typing import Literal, Dict, Optional, Any, List, Type\n",
    "from bs4 import BeautifulSoup\n",
    "import requests\n",
    "\n",
    "import os\n",
    "import requests\n",
    "import json\n",
    "import time\n",
    "import random\n",
    "import re\n",
    "import string\n",
    "from transformers import RobertaTokenizer, AutoTokenizer\n",
    "\n",
    "from transformers import (\n",
    "    AutoConfig,\n",
    "    MT5Config,\n",
    "    T5ForConditionalGeneration,\n",
    ")\n",
    "from transformers.modeling_outputs import (\n",
    "    Seq2SeqLMOutput,\n",
    "    BaseModelOutput,\n",
    ")\n",
    "import torch\n",
    "import functools\n",
    "import operator\n",
    "\n",
    "from onnxruntime import (\n",
    "    GraphOptimizationLevel,\n",
    "    InferenceSession,\n",
    "    SessionOptions,\n",
    "    ExecutionMode,\n",
    ")\n",
    "\n",
    "from langchain.llms import OpenAI\n",
    "from langchain.chat_models import ChatOpenAI\n",
    "from langchain import PromptTemplate\n",
    "from langchain.chains import LLMChain, SimpleSequentialChain, SequentialChain\n",
    "from langchain.chains.summarize import load_summarize_chain\n",
    "from langchain.agents import initialize_agent, Tool, load_tools\n",
    "from langchain.agents import AgentType\n",
    "from langchain.text_splitter import RecursiveCharacterTextSplitter\n",
    "from langchain.tools import BaseTool\n",
    "from pydantic import BaseModel, Field\n",
    "from langchain.schema import SystemMessage\n",
    "from langchain.prompts import MessagesPlaceholder\n",
    "from langchain.memory import ConversationSummaryBufferMemory\n",
    "from langchain.agents import ZeroShotAgent, Tool, AgentExecutor\n",
    "from langchain.embeddings import OpenAIEmbeddings\n",
    "from PyPDF2 import PdfReader\n",
    "from langchain.text_splitter import CharacterTextSplitter\n",
    "from langchain.document_loaders import TextLoader\n",
    "from langchain.vectorstores import FAISS\n",
    "from langchain.chains import RetrievalQA\n",
    "\n",
    "import xml.etree.ElementTree as ET\n",
    "\n",
    "import splunklib.client as client\n",
    "import splunklib.results as results\n",
    "from splunklib.binding import HTTPError\n",
    "import pandas as pd\n",
    "\n",
    "import urllib3\n",
    "urllib3.disable_warnings()"
   ]
  },
  {
   "cell_type": "code",
   "execution_count": null,
   "metadata": {
    "id": "7O_yO_0H6UwY"
   },
   "outputs": [],
   "source": [
    "from dotenv import load_dotenv\n",
    "\n",
    "load_dotenv()\n",
    "serper_api_key = os.getenv(\"SERP_API_KEY\")\n",
    "openai_api_key = os.getenv(\"OPENAI_API_KEY\")\n",
    "browserless_api_key = os.getenv('BROWSERLESS_API_KEY')\n",
    "splunk_url = os.getenv('SPLUNK_URL')\n",
    "splunk_username = os.getenv('SPLUNK_USERNAME')\n",
    "splunk_password = os.getenv('SPLUNK_PASSWORD')"
   ]
  },
  {
   "cell_type": "code",
   "execution_count": null,
   "metadata": {
    "id": "M6RJJSkG_jXl"
   },
   "outputs": [],
   "source": [
    "openai_api_key = os.getenv('OPENAI_API_KEY')\n",
    "openai.api_key=openai_api_key\n",
    "\n",
    "serpapi_api_key = os.getenv('SERPAPI_API_KEY')\n",
    "\n",
    "serper_api_key = os.getenv('SERPER_API_KEY')\n",
    "\n",
    "browserless_api_key = os.getenv('BROWSERLESS_API_KEY')\n",
    "\n",
    "os.environ[\"LANGCHAIN_TRACING_V2\"]=\"true\"\n",
    "os.environ[\"LANGCHAIN_ENDPOINT\"] = \"https://api.smith.langchain.com\"\n",
    "os.environ[\"LANGCHAIN_PROJECT\"] = \"SplunkGPT\"\n",
    "os.environ[\"LANGCHAIN_API_KEY\"] = \"ls__\""
   ]
  },
  {
   "cell_type": "markdown",
   "metadata": {
    "id": "_jXakNwN14ye"
   },
   "source": [
    "# SplunkGPT Cookbook\n",
    "**Goal**: Provide an introductory understanding of the components and use cases of utilizing and expanding the capabilties of an LLM like GPT via prompt engineering, LangChain, and developing agents.\n",
    "\n",
    "## What's an LLM?\n",
    "A large language model (LLM) is a type of artificial intelligence (AI) algorithm that uses deep learning techniques and massively large data sets to understand, summarize, generate and predict new content. An LLM is not ChatGPT. ChatGPT is a trained model by OpenAI that uses Reinforcement Learning from Human Feedback. Other LLMs exist such as LLama, Flan, Bert, etc...  \n",
    "\n",
    "### What's GPT?\n",
    "OpenAI has developed GPT (generative pre-trained transformer) models have been trained to understand natural language and code. GPTs provide text outputs in response to their inputs. The inputs to GPTs are also referred to as \"prompts\". Designing a prompt is essentially how you \"program\" a GPT model, usually by providing instructions or some examples of how to successfully complete a task. GPTs can be used across a great variety of tasks including content or code generation, summarization, conversation, creative writing, and more."
   ]
  },
  {
   "cell_type": "markdown",
   "metadata": {
    "id": "-Ar229SdCDw0"
   },
   "source": [
    "# Limitations of LLM"
   ]
  },
  {
   "cell_type": "code",
   "execution_count": null,
   "metadata": {
    "id": "djr3pdBK93_X"
   },
   "outputs": [],
   "source": [
    "# insert code here\n",
    "user_prompt_1 = \"Write a splunk query that lists users with failed logon attempts\"\n",
    "response_1 = openai.Completion.create(\n",
    "            model=\"davinci\",\n",
    "            prompt=user_prompt_1,\n",
    "            temperature=1,\n",
    "        )"
   ]
  },
  {
   "cell_type": "code",
   "execution_count": null,
   "metadata": {
    "colab": {
     "base_uri": "https://localhost:8080/"
    },
    "id": "V_CGB3r2BLmu",
    "outputId": "b0e1cfe3-9888-4696-dfe0-4d1ee47259f6"
   },
   "outputs": [],
   "source": [
    "#print(response_1)\n",
    "print(\"Davinci Model Response: \\n\")\n",
    "print(\"\\\"\\\"\\\"\")\n",
    "print(response_1.choices[0].text)\n",
    "print(\"\\\"\\\"\\\"\")"
   ]
  },
  {
   "cell_type": "markdown",
   "metadata": {
    "id": "-eKPhlJJD33A"
   },
   "source": [
    "### General process of tuning a model\n",
    "https://platform.openai.com/docs/guides/fine-tuning/preparing-your-dataset\n",
    "\n",
    "#### Step 1: Gather the data\n",
    "\n",
    "Scraped ~500 queries from Splunk Community Forum, Splunk Online Documentation, Splunkbase, GitHub, GoSplunk SPL Database\n",
    "\n",
    "#### Step 2: Format the Data\n",
    "```\n",
    "{\"prompt\": \"<prompt text>\", \"completion\": \"<ideal generated text>\"}\n",
    "```\n",
    "Example:\n",
    "```\n",
    "  {\n",
    "    \"prompt\": \"Write a Splunk query that retrieves and analyzes failed login attempts for the Administrator and Guest accounts with more than 5 failed logon attempts.\",\n",
    "    \"completion\": \"index=windows LogName=Security EventCode=4625 (Account_Name=administrator OR Account_Name=guest)  | stats count values(Workstation_Name) AS Workstation_Name, Values(Source_Network_Address) AS Source_IP_Address, values(host) AS Host by Account_Name  | where count > 5\\\" Failed Login Attempts\\tindex=yourindex sourcetype=\\\"\\\"WinEventLog:Security\\\"\\\" EventCode=4625|fillnull value=NULL| eval Account_Name = mvindex(Account_Name,1) | eval Security_ID = mvindex(Security_ID,1) | eval Logon_Type=case(Logon_Type=3,\\\"\\\"RPC (not RDP)\\\"\\\",Logon_Type=4,\\\"\\\"Batch\\\"\\\",Logon_Type=5,\\\"\\\"Service\\\"\\\",Logon_Type=7,\\\"\\\"Screen Unlock/Session Resume\\\"\\\",Logon_Type=10,\\\"\\\"Remote Desktop\\\"\\\",Logon_Type=11,\\\"\\\"Cached\\\"\\\",Logon_Type=9,\\\"\\\"New Credentials\\\"\\\")|stats count(Security_ID) as \\\"\\\"Login Events\\\"\\\" by Security_ID, Account_Name, Logon_Type, host, _time |sort + Security_ID\\\"\"\n",
    "  }\n",
    "```\n",
    "\n",
    "#### Step 3: Validate Format and Tune Model\n",
    "\n",
    "```\n",
    "openai tools fine_tunes.prepare_data -f train-data-3.json\n",
    "openai api fine_tunes.create -t train-data-3_prepared.jsonl -m davinci --suffix \"SplunkGPT\"\n",
    "openai api fine_tunes.follow -i <id-provided-from-above>\n",
    "```\n",
    "\n",
    "#### Step 4: Use model, analyze results, and reiterate tuning\n"
   ]
  },
  {
   "cell_type": "code",
   "execution_count": null,
   "metadata": {
    "id": "CXdekHAFHrZK"
   },
   "outputs": [],
   "source": [
    "user_prompt_2 = \"Write a splunk query that lists users with failed logon attempts\"\n",
    "response_2 = openai.Completion.create(\n",
    "            model=\"davinci:ft-personal:splunkgpt-2023-07-31-00-58-57\",\n",
    "            prompt=(user_prompt_2),\n",
    "            temperature=1,\n",
    "        )"
   ]
  },
  {
   "cell_type": "code",
   "execution_count": null,
   "metadata": {
    "colab": {
     "base_uri": "https://localhost:8080/"
    },
    "id": "Y5G_PaGEHkUp",
    "outputId": "e5c397bc-f3b5-4ff7-8f6e-a7f3b658854e"
   },
   "outputs": [],
   "source": [
    "#print(response_2)\n",
    "print(\"Tuned Model Response: \\n\")\n",
    "print(\"\\\"\\\"\\\"\")\n",
    "print(response_2.choices[0].text)\n",
    "print(\"\\\"\\\"\\\"\")\n",
    "\n",
    "print(\"Response we were looking for:\")\n",
    "print(\"\\\"\\\"\\\"\")\n",
    "print(\"index=main sourcetype=\\\"WinEventLog:Security\\\" EventCode=4625 \\n| stats count by Account_Name, src_ip \\n| where count > 1\")\n",
    "print(\"\\\"\\\"\\\"\")"
   ]
  },
  {
   "cell_type": "markdown",
   "metadata": {
    "id": "6YcC9pYpCOGS"
   },
   "source": [
    "# Internal reflection\n",
    "- Why did it fail?\n",
    "- We've spent $40 in tuning, should we continue down the path of tuning this model?\n",
    "- What are our other options?\n",
    " - Continue to reiterate our tuning process\n",
    " - Use an existing fine tuned model\n",
    " - Create an agent"
   ]
  },
  {
   "cell_type": "markdown",
   "metadata": {
    "id": "zn8TRh_Sjvft"
   },
   "source": [
    "## Splunk AI Predictor Classes"
   ]
  },
  {
   "cell_type": "markdown",
   "metadata": {
    "id": "2PcFh3fXkaP6"
   },
   "source": [
    "### Download Model"
   ]
  },
  {
   "cell_type": "code",
   "execution_count": null,
   "metadata": {
    "colab": {
     "base_uri": "https://localhost:8080/"
    },
    "id": "VVfV9EMwkdbL",
    "outputId": "7caf8a9b-f019-434e-b924-bbdbdbf061e6"
   },
   "outputs": [],
   "source": [
    "import requests\n",
    "import tarfile\n",
    "\n",
    "def download_and_extract(url, save_path=\".\"):\n",
    "    # Download the file\n",
    "    response = requests.get(url, stream=True)\n",
    "    file_name = url.split(\"/\")[-1]\n",
    "\n",
    "    with open(file_name, \"wb\") as file:\n",
    "        for chunk in response.iter_content(chunk_size=8192):\n",
    "            file.write(chunk)\n",
    "\n",
    "    # Extract the file\n",
    "    with tarfile.open(file_name, 'r:gz') as tar:\n",
    "        tar.extractall(path=save_path)\n",
    "    print(f\"File {file_name} has been downloaded and extracted.\")\n",
    "\n",
    "download_and_extract(\"https://download.splunk.com/products/Splunk_AI_Assistant/beta/0.2.3/linux/Splunk_AI_Assistant_0.2.3-d28e4b4.tgz\")\n",
    "script_dir = '/content/Splunk_AI_Assistant/lib/artifacts/'"
   ]
  },
  {
   "cell_type": "markdown",
   "metadata": {
    "id": "NhMEPlZTkf3p"
   },
   "source": [
    "### Classes"
   ]
  },
  {
   "cell_type": "code",
   "execution_count": null,
   "metadata": {
    "id": "GYc6iMshkfCY"
   },
   "outputs": [],
   "source": [
    "def get_onnx_runtime_sessions(\n",
    "    model_paths,\n",
    "    default: bool = True,\n",
    "    opt_level: int = 99,\n",
    "    parallel_exe_mode: bool = True,\n",
    "    n_threads: int = 0,\n",
    "    provider=[\n",
    "        \"CPUExecutionProvider\",\n",
    "    ],\n",
    ") -> InferenceSession:\n",
    "    \"\"\"\n",
    "            Optimizes the model\n",
    "    Args:\n",
    "        model_paths (List or Tuple of str) : the path to, in order:\n",
    "            path_to_encoder (str) : the path of input onnx encoder model.\n",
    "            path_to_decoder (str) : the path of input onnx decoder model.\n",
    "            path_to_initial_decoder (str) :  the path of input initial onnx decoder model.\n",
    "        default : set this to true, ort will choose the best settings for your hardware.\n",
    "                  (you can test out different settings for better results.)\n",
    "        opt_level (int) : sess_options.GraphOptimizationLevel param if set 1 uses 'ORT_ENABLE_BASIC',\n",
    "                          2 for 'ORT_ENABLE_EXTENDED' and 99 for 'ORT_ENABLE_ALL',\n",
    "                          default value is set to 99.\n",
    "        parallel_exe_mode (bool) :  Sets the execution mode. Default is True (parallel).\n",
    "        n_threads (int) :  Sets the number of threads used to parallelize the execution within nodes. Default is 0 to let onnxruntime choose\n",
    "        provider : execution providers list.\n",
    "    Returns:\n",
    "        encoder_session : encoder onnx InferenceSession\n",
    "        decoder_session : decoder onnx InferenceSession\n",
    "        decoder_sess_init : initial decoder onnx InferenceSession\n",
    "    \"\"\"\n",
    "    path_to_encoder, path_to_decoder, path_to_initial_decoder = model_paths\n",
    "\n",
    "    if default:\n",
    "\n",
    "        encoder_sess = InferenceSession(str(path_to_encoder))\n",
    "\n",
    "        decoder_sess = InferenceSession(str(path_to_decoder))\n",
    "\n",
    "        decoder_sess_init = InferenceSession(str(path_to_initial_decoder))\n",
    "\n",
    "    else:\n",
    "\n",
    "        # Few properties that might have an impact on performances\n",
    "        options = SessionOptions()\n",
    "\n",
    "        if opt_level == 1:\n",
    "            options.graph_optimization_level = GraphOptimizationLevel.ORT_ENABLE_BASIC\n",
    "        elif opt_level == 2:\n",
    "            options.graph_optimization_level = (\n",
    "                GraphOptimizationLevel.ORT_ENABLE_EXTENDED\n",
    "            )\n",
    "        else:\n",
    "            assert opt_level == 99\n",
    "            options.graph_optimization_level = GraphOptimizationLevel.ORT_ENABLE_ALL\n",
    "\n",
    "        # set this true for better performance\n",
    "        if parallel_exe_mode == True:\n",
    "            options.execution_mode = ExecutionMode.ORT_PARALLEL\n",
    "        else:\n",
    "            options.execution_mode = ExecutionMode.ORT_SEQUENTIAL\n",
    "\n",
    "        options.intra_op_num_threads = n_threads\n",
    "        # options.inter_op_num_threads = 10\n",
    "\n",
    "        # options.enable_profiling = True\n",
    "\n",
    "        encoder_sess = InferenceSession(\n",
    "            str(path_to_encoder), options, providers=provider\n",
    "        )\n",
    "\n",
    "        decoder_sess = InferenceSession(\n",
    "            str(path_to_decoder), options, providers=provider\n",
    "        )\n",
    "\n",
    "        decoder_sess_init = InferenceSession(\n",
    "            str(path_to_initial_decoder), options, providers=provider\n",
    "        )\n",
    "\n",
    "    return encoder_sess, decoder_sess, decoder_sess_init\n",
    "\n",
    "\n",
    "class T5Encoder(torch.nn.Module):\n",
    "    def __init__(self, encoder_sess):\n",
    "        super().__init__()\n",
    "        self.encoder = encoder_sess\n",
    "        self.main_input_name = \"input_ids\"\n",
    "\n",
    "    def forward(\n",
    "        self,\n",
    "        input_ids,\n",
    "        attention_mask,\n",
    "        inputs_embeds=None,\n",
    "        head_mask=None,\n",
    "        output_attentions=None,\n",
    "        output_hidden_states=None,\n",
    "        return_dict=None,\n",
    "    ):\n",
    "\n",
    "        encoder_hidden_state = torch.from_numpy(\n",
    "            self.encoder.run(\n",
    "                None,\n",
    "                {\n",
    "                    \"input_ids\": input_ids.cpu().numpy(),\n",
    "                    \"attention_mask\": attention_mask.cpu().numpy(),\n",
    "                },\n",
    "            )[0]\n",
    "        )\n",
    "\n",
    "        return BaseModelOutput(encoder_hidden_state)\n",
    "\n",
    "\n",
    "class T5DecoderInit(torch.nn.Module):\n",
    "    def __init__(self, decoder_sess):\n",
    "        super().__init__()\n",
    "        self.decoder = decoder_sess\n",
    "\n",
    "    def forward(self, input_ids, encoder_attention_mask, encoder_hidden_states):\n",
    "\n",
    "        decoder_outputs = self.decoder.run(\n",
    "            None,\n",
    "            {\n",
    "                \"input_ids\": input_ids.cpu().numpy(),\n",
    "                \"encoder_attention_mask\": encoder_attention_mask.cpu().numpy(),\n",
    "                \"encoder_hidden_states\": encoder_hidden_states.cpu().numpy(),\n",
    "            },\n",
    "        )\n",
    "\n",
    "        list_pkv = tuple(torch.from_numpy(x) for x in decoder_outputs[1:])\n",
    "\n",
    "        out_past_key_values = tuple(\n",
    "            list_pkv[i : i + 4] for i in range(0, len(list_pkv), 4)\n",
    "        )\n",
    "\n",
    "        return torch.from_numpy(decoder_outputs[0]), out_past_key_values\n",
    "\n",
    "\n",
    "class T5Decoder(torch.nn.Module):\n",
    "    def __init__(self, decoder_sess):\n",
    "        super().__init__()\n",
    "        self.decoder = decoder_sess\n",
    "\n",
    "    def forward(self, input_ids, attention_mask, encoder_output, past_key_values):\n",
    "\n",
    "        decoder_inputs = {\n",
    "            \"input_ids\": input_ids.cpu().numpy(),\n",
    "            \"encoder_attention_mask\": attention_mask.cpu().numpy(),\n",
    "            \"encoder_hidden_states\": encoder_output.cpu().numpy(),\n",
    "        }\n",
    "\n",
    "        flat_past_key_values = functools.reduce(operator.iconcat, past_key_values, [])\n",
    "\n",
    "        past_key_values = {\n",
    "            f\"pkv_{i}\": pkv.cpu().numpy() for i, pkv in enumerate(flat_past_key_values)\n",
    "        }\n",
    "\n",
    "        decoder_outputs = self.decoder.run(None, {**decoder_inputs, **past_key_values})\n",
    "        # converts each value of the list to tensor from numpy\n",
    "        list_pkv = tuple(torch.from_numpy(x) for x in decoder_outputs[1:])\n",
    "\n",
    "        # creates a tuple of tuples of shape 6x4 from the above tuple\n",
    "        out_past_key_values = tuple(\n",
    "            list_pkv[i : i + 4] for i in range(0, len(list_pkv), 4)\n",
    "        )\n",
    "\n",
    "        return torch.from_numpy(decoder_outputs[0]), out_past_key_values\n",
    "\n",
    "\n",
    "class OnnxT5(T5ForConditionalGeneration):\n",
    "    \"\"\"creates a T5 model using onnx sessions (encode, decoder & init_decoder)\"\"\"\n",
    "\n",
    "    def __init__(self, model_or_model_path, onnx_model_sessions):\n",
    "        config = AutoConfig.from_pretrained(\n",
    "            model_or_model_path\n",
    "        )\n",
    "        super().__init__(config)\n",
    "\n",
    "        # monkeypatch to work for MT5\n",
    "        if (\n",
    "            isinstance(model_or_model_path, str)\n",
    "            and \"mt5\" in model_or_model_path.lower()\n",
    "        ) or (\n",
    "            hasattr(model_or_model_path, \"name_or_path\")\n",
    "            and \"mt5\" in model_or_model_path.name_or_path\n",
    "        ):\n",
    "            self.model_type = \"mt5\"\n",
    "            self.config_class = MT5Config\n",
    "            self._keys_to_ignore_on_load_missing = [\n",
    "                r\"encoder\\.embed_tokens\\.weight\",\n",
    "            ]\n",
    "            self._keys_to_ignore_on_save = [\n",
    "                r\"encoder\\.embed_tokens\\.weight\",\n",
    "            ]\n",
    "\n",
    "        assert len(onnx_model_sessions) == 3, \"all three models should be given\"\n",
    "\n",
    "        encoder_sess, decoder_sess, decoder_sess_init = onnx_model_sessions\n",
    "\n",
    "        self.encoder = T5Encoder(encoder_sess)\n",
    "        self.decoder = T5Decoder(decoder_sess)\n",
    "        self.decoder_init = T5DecoderInit(decoder_sess_init)\n",
    "\n",
    "    def forward(\n",
    "        self,\n",
    "        input_ids=None,\n",
    "        attention_mask=None,\n",
    "        decoder_input_ids=None,\n",
    "        decoder_attention_mask=None,\n",
    "        head_mask=None,\n",
    "        decoder_head_mask=None,\n",
    "        cross_attn_head_mask=None,\n",
    "        encoder_outputs=None,\n",
    "        past_key_values=None,\n",
    "        inputs_embeds=None,\n",
    "        decoder_inputs_embeds=None,\n",
    "        labels=None,\n",
    "        use_cache=None,\n",
    "        output_attentions=None,\n",
    "        output_hidden_states=None,\n",
    "        return_dict=None,\n",
    "    ):\n",
    "\n",
    "        if encoder_outputs is None:\n",
    "            # Convert encoder inputs in embeddings if needed\n",
    "            encoder_outputs = self.encoder(\n",
    "                input_ids=input_ids, attention_mask=attention_mask\n",
    "            )\n",
    "\n",
    "        encoder_hidden_states = encoder_outputs[0]\n",
    "\n",
    "        if past_key_values is not None:\n",
    "            if decoder_input_ids is not None:\n",
    "                decoder_input_ids = decoder_input_ids[:, -1:]\n",
    "            if decoder_inputs_embeds is not None:\n",
    "                decoder_inputs_embeds = decoder_inputs_embeds[:, -1:]\n",
    "\n",
    "        if past_key_values is None:\n",
    "\n",
    "            # runs only for the first time:\n",
    "            init_onnx_outputs = self.decoder_init(\n",
    "                decoder_input_ids, attention_mask, encoder_hidden_states\n",
    "            )\n",
    "\n",
    "            logits, past_key_values = init_onnx_outputs\n",
    "\n",
    "        else:\n",
    "\n",
    "            onnx_outputs = self.decoder(\n",
    "                decoder_input_ids,\n",
    "                attention_mask,\n",
    "                encoder_hidden_states,\n",
    "                past_key_values,\n",
    "            )\n",
    "\n",
    "            logits, past_key_values = onnx_outputs\n",
    "\n",
    "        return Seq2SeqLMOutput(logits=logits, past_key_values=past_key_values)\n",
    "class Predictor:\n",
    "    def __init__(self) -> None:\n",
    "        model_id = \"onnx_t5_small_0615_explain_quantized\"\n",
    "        onnx_model_paths = (\n",
    "            script_dir\n",
    "            + f\"{model_id}/copilot-encoder.onnx\",\n",
    "            script_dir\n",
    "            + f\"{model_id}/copilot-decoder.onnx\",\n",
    "            script_dir\n",
    "            + f\"{model_id}/copilot-init-decoder.onnx\",\n",
    "        )\n",
    "\n",
    "        config_path = (\n",
    "            script_dir + f\"{model_id}/config\"\n",
    "        )\n",
    "        model_sessions = get_onnx_runtime_sessions(onnx_model_paths)\n",
    "        self.model = OnnxT5(config_path, model_sessions)\n",
    "        self.tokenizer = AutoTokenizer.from_pretrained(\n",
    "            script_dir\n",
    "            + f\"{model_id}/tokenizer\",\n",
    "        )\n",
    "\n",
    "    def predict(self, prompt):\n",
    "        \"\"\"\n",
    "        Make predictions.\n",
    "        \"\"\"\n",
    "        prefix = \"<Splunk Instruction>: \"\n",
    "        # Tokenize English description\n",
    "        batch = self.tokenizer(\n",
    "            prefix+prompt,\n",
    "            max_length=512,\n",
    "            padding=\"max_length\",\n",
    "            return_tensors=\"pt\",\n",
    "        )\n",
    "\n",
    "        # Generate predictions using beam search\n",
    "        output = self.model.generate(\n",
    "            input_ids=batch[\"input_ids\"],\n",
    "            attention_mask=batch[\"attention_mask\"],\n",
    "            num_beams=5,\n",
    "            num_return_sequences=1,\n",
    "            repetition_penalty=5.0,\n",
    "            output_scores=True,\n",
    "            max_length=512,\n",
    "            return_dict_in_generate=True,\n",
    "        )\n",
    "\n",
    "        # Decode tokenized predictions\n",
    "        predictions = self.tokenizer.batch_decode(output[\"sequences\"], skip_special_tokens=True)\n",
    "\n",
    "        # Return results, capping at a maximum of 5 results\n",
    "        return predictions"
   ]
  },
  {
   "cell_type": "markdown",
   "metadata": {
    "id": "oyxL748J7qBO"
   },
   "source": [
    "# Splunk AI\n",
    "https://www.splunk.com/en_us/blog/it/building-an-ai-assistant-for-splunk.html"
   ]
  },
  {
   "cell_type": "markdown",
   "metadata": {
    "id": "9_weyqon6rsa"
   },
   "source": [
    "# SPL Gen Deps"
   ]
  },
  {
   "cell_type": "code",
   "execution_count": null,
   "metadata": {
    "colab": {
     "base_uri": "https://localhost:8080/"
    },
    "id": "cISZWoSCYrpU",
    "outputId": "0957b553-29a5-448e-860d-361130764b66"
   },
   "outputs": [],
   "source": [
    "import requests\n",
    "import tarfile\n",
    "\n",
    "def download_and_extract(url, save_path=\".\"):\n",
    "    # Download the file\n",
    "    response = requests.get(url, stream=True)\n",
    "    file_name = url.split(\"/\")[-1]\n",
    "\n",
    "    with open(file_name, \"wb\") as file:\n",
    "        for chunk in response.iter_content(chunk_size=8192):\n",
    "            file.write(chunk)\n",
    "\n",
    "    # Extract the file\n",
    "    with tarfile.open(file_name, 'r:gz') as tar:\n",
    "        tar.extractall(path=save_path)\n",
    "    print(f\"File {file_name} has been downloaded and extracted.\")\n",
    "\n",
    "download_and_extract(\"https://download.splunk.com/products/Splunk_AI_Assistant/beta/0.2.3/linux/Splunk_AI_Assistant_0.2.3-d28e4b4.tgz\")\n",
    "script_dir = '/content/Splunk_AI_Assistant/lib/artifacts/'"
   ]
  },
  {
   "cell_type": "code",
   "execution_count": null,
   "metadata": {
    "id": "JtNHo-QHzAT6"
   },
   "outputs": [],
   "source": [
    "def get_onnx_runtime_sessions(\n",
    "    model_paths,\n",
    "    default: bool = True,\n",
    "    opt_level: int = 99,\n",
    "    parallel_exe_mode: bool = True,\n",
    "    n_threads: int = 0,\n",
    "    provider=[\n",
    "        \"CPUExecutionProvider\", \"AzureExecutionProvider\"\n",
    "    ],\n",
    ") -> InferenceSession:\n",
    "    \"\"\"\n",
    "            Optimizes the model\n",
    "    Args:\n",
    "        model_paths (List or Tuple of str) : the path to, in order:\n",
    "            path_to_encoder (str) : the path of input onnx encoder model.\n",
    "            path_to_decoder (str) : the path of input onnx decoder model.\n",
    "            path_to_initial_decoder (str) :  the path of input initial onnx decoder model.\n",
    "        default : set this to true, ort will choose the best settings for your hardware.\n",
    "                  (you can test out different settings for better results.)\n",
    "        opt_level (int) : sess_options.GraphOptimizationLevel param if set 1 uses 'ORT_ENABLE_BASIC',\n",
    "                          2 for 'ORT_ENABLE_EXTENDED' and 99 for 'ORT_ENABLE_ALL',\n",
    "                          default value is set to 99.\n",
    "        parallel_exe_mode (bool) :  Sets the execution mode. Default is True (parallel).\n",
    "        n_threads (int) :  Sets the number of threads used to parallelize the execution within nodes. Default is 0 to let onnxruntime choose\n",
    "        provider : execution providers list.\n",
    "    Returns:\n",
    "        encoder_session : encoder onnx InferenceSession\n",
    "        decoder_session : decoder onnx InferenceSession\n",
    "        decoder_sess_init : initial decoder onnx InferenceSession\n",
    "    \"\"\"\n",
    "    path_to_encoder, path_to_decoder, path_to_initial_decoder = model_paths\n",
    "\n",
    "    if default:\n",
    "\n",
    "        encoder_sess = InferenceSession(str(path_to_encoder))\n",
    "\n",
    "        decoder_sess = InferenceSession(str(path_to_decoder))\n",
    "\n",
    "        decoder_sess_init = InferenceSession(str(path_to_initial_decoder))\n",
    "\n",
    "    else:\n",
    "\n",
    "        # Few properties that might have an impact on performances\n",
    "        options = SessionOptions()\n",
    "\n",
    "        if opt_level == 1:\n",
    "            options.graph_optimization_level = GraphOptimizationLevel.ORT_ENABLE_BASIC\n",
    "        elif opt_level == 2:\n",
    "            options.graph_optimization_level = (\n",
    "                GraphOptimizationLevel.ORT_ENABLE_EXTENDED\n",
    "            )\n",
    "        else:\n",
    "            assert opt_level == 99\n",
    "            options.graph_optimization_level = GraphOptimizationLevel.ORT_ENABLE_ALL\n",
    "\n",
    "        # set this true for better performance\n",
    "        if parallel_exe_mode == True:\n",
    "            options.execution_mode = ExecutionMode.ORT_PARALLEL\n",
    "        else:\n",
    "            options.execution_mode = ExecutionMode.ORT_SEQUENTIAL\n",
    "\n",
    "        options.intra_op_num_threads = n_threads\n",
    "        # options.inter_op_num_threads = 10\n",
    "\n",
    "        # options.enable_profiling = True\n",
    "\n",
    "        encoder_sess = InferenceSession(\n",
    "            str(path_to_encoder), options, providers=provider\n",
    "        )\n",
    "\n",
    "        decoder_sess = InferenceSession(\n",
    "            str(path_to_decoder), options, providers=provider\n",
    "        )\n",
    "\n",
    "        decoder_sess_init = InferenceSession(\n",
    "            str(path_to_initial_decoder), options, providers=provider\n",
    "        )\n",
    "\n",
    "    return encoder_sess, decoder_sess, decoder_sess_init"
   ]
  },
  {
   "cell_type": "code",
   "execution_count": null,
   "metadata": {
    "id": "K9z6kgyrzAT7"
   },
   "outputs": [],
   "source": [
    "class T5Encoder(torch.nn.Module):\n",
    "    def __init__(self, encoder_sess):\n",
    "        super().__init__()\n",
    "        self.encoder = encoder_sess\n",
    "        self.main_input_name = \"input_ids\"\n",
    "\n",
    "    def forward(\n",
    "        self,\n",
    "        input_ids,\n",
    "        attention_mask,\n",
    "        inputs_embeds=None,\n",
    "        head_mask=None,\n",
    "        output_attentions=None,\n",
    "        output_hidden_states=None,\n",
    "        return_dict=None,\n",
    "    ):\n",
    "\n",
    "        encoder_hidden_state = torch.from_numpy(\n",
    "            self.encoder.run(\n",
    "                None,\n",
    "                {\n",
    "                    \"input_ids\": input_ids.cpu().numpy(),\n",
    "                    \"attention_mask\": attention_mask.cpu().numpy(),\n",
    "                },\n",
    "            )[0]\n",
    "        )\n",
    "\n",
    "        return BaseModelOutput(encoder_hidden_state)\n",
    "\n",
    "\n",
    "class T5DecoderInit(torch.nn.Module):\n",
    "    def __init__(self, decoder_sess):\n",
    "        super().__init__()\n",
    "        self.decoder = decoder_sess\n",
    "\n",
    "    def forward(self, input_ids, encoder_attention_mask, encoder_hidden_states):\n",
    "\n",
    "        decoder_outputs = self.decoder.run(\n",
    "            None,\n",
    "            {\n",
    "                \"input_ids\": input_ids.cpu().numpy(),\n",
    "                \"encoder_attention_mask\": encoder_attention_mask.cpu().numpy(),\n",
    "                \"encoder_hidden_states\": encoder_hidden_states.cpu().numpy(),\n",
    "            },\n",
    "        )\n",
    "\n",
    "        list_pkv = tuple(torch.from_numpy(x) for x in decoder_outputs[1:])\n",
    "\n",
    "        out_past_key_values = tuple(\n",
    "            list_pkv[i : i + 4] for i in range(0, len(list_pkv), 4)\n",
    "        )\n",
    "\n",
    "        return torch.from_numpy(decoder_outputs[0]), out_past_key_values\n",
    "\n",
    "\n",
    "class T5Decoder(torch.nn.Module):\n",
    "    def __init__(self, decoder_sess):\n",
    "        super().__init__()\n",
    "        self.decoder = decoder_sess\n",
    "\n",
    "    def forward(self, input_ids, attention_mask, encoder_output, past_key_values):\n",
    "\n",
    "        decoder_inputs = {\n",
    "            \"input_ids\": input_ids.cpu().numpy(),\n",
    "            \"encoder_attention_mask\": attention_mask.cpu().numpy(),\n",
    "            \"encoder_hidden_states\": encoder_output.cpu().numpy(),\n",
    "        }\n",
    "\n",
    "        flat_past_key_values = functools.reduce(operator.iconcat, past_key_values, [])\n",
    "\n",
    "        past_key_values = {\n",
    "            f\"pkv_{i}\": pkv.cpu().numpy() for i, pkv in enumerate(flat_past_key_values)\n",
    "        }\n",
    "\n",
    "        decoder_outputs = self.decoder.run(None, {**decoder_inputs, **past_key_values})\n",
    "        # converts each value of the list to tensor from numpy\n",
    "        list_pkv = tuple(torch.from_numpy(x) for x in decoder_outputs[1:])\n",
    "\n",
    "        # creates a tuple of tuples of shape 6x4 from the above tuple\n",
    "        out_past_key_values = tuple(\n",
    "            list_pkv[i : i + 4] for i in range(0, len(list_pkv), 4)\n",
    "        )\n",
    "\n",
    "        return torch.from_numpy(decoder_outputs[0]), out_past_key_values\n",
    "\n",
    "\n",
    "class OnnxT5(T5ForConditionalGeneration):\n",
    "    \"\"\"creates a T5 model using onnx sessions (encode, decoder & init_decoder)\"\"\"\n",
    "\n",
    "    def __init__(self, model_or_model_path, onnx_model_sessions):\n",
    "        config = AutoConfig.from_pretrained(\n",
    "            model_or_model_path\n",
    "        )\n",
    "        super().__init__(config)\n",
    "\n",
    "        # monkeypatch to work for MT5\n",
    "        if (\n",
    "            isinstance(model_or_model_path, str)\n",
    "            and \"mt5\" in model_or_model_path.lower()\n",
    "        ) or (\n",
    "            hasattr(model_or_model_path, \"name_or_path\")\n",
    "            and \"mt5\" in model_or_model_path.name_or_path\n",
    "        ):\n",
    "            self.model_type = \"mt5\"\n",
    "            self.config_class = MT5Config\n",
    "            self._keys_to_ignore_on_load_missing = [\n",
    "                r\"encoder\\.embed_tokens\\.weight\",\n",
    "            ]\n",
    "            self._keys_to_ignore_on_save = [\n",
    "                r\"encoder\\.embed_tokens\\.weight\",\n",
    "            ]\n",
    "\n",
    "        assert len(onnx_model_sessions) == 3, \"all three models should be given\"\n",
    "\n",
    "        encoder_sess, decoder_sess, decoder_sess_init = onnx_model_sessions\n",
    "\n",
    "        self.encoder = T5Encoder(encoder_sess)\n",
    "        self.decoder = T5Decoder(decoder_sess)\n",
    "        self.decoder_init = T5DecoderInit(decoder_sess_init)\n",
    "\n",
    "    def forward(\n",
    "        self,\n",
    "        input_ids=None,\n",
    "        attention_mask=None,\n",
    "        decoder_input_ids=None,\n",
    "        decoder_attention_mask=None,\n",
    "        head_mask=None,\n",
    "        decoder_head_mask=None,\n",
    "        cross_attn_head_mask=None,\n",
    "        encoder_outputs=None,\n",
    "        past_key_values=None,\n",
    "        inputs_embeds=None,\n",
    "        decoder_inputs_embeds=None,\n",
    "        labels=None,\n",
    "        use_cache=None,\n",
    "        output_attentions=None,\n",
    "        output_hidden_states=None,\n",
    "        return_dict=None,\n",
    "    ):\n",
    "\n",
    "        if encoder_outputs is None:\n",
    "            # Convert encoder inputs in embeddings if needed\n",
    "            encoder_outputs = self.encoder(\n",
    "                input_ids=input_ids, attention_mask=attention_mask\n",
    "            )\n",
    "\n",
    "        encoder_hidden_states = encoder_outputs[0]\n",
    "\n",
    "        if past_key_values is not None:\n",
    "            if decoder_input_ids is not None:\n",
    "                decoder_input_ids = decoder_input_ids[:, -1:]\n",
    "            if decoder_inputs_embeds is not None:\n",
    "                decoder_inputs_embeds = decoder_inputs_embeds[:, -1:]\n",
    "\n",
    "        if past_key_values is None:\n",
    "\n",
    "            # runs only for the first time:\n",
    "            init_onnx_outputs = self.decoder_init(\n",
    "                decoder_input_ids, attention_mask, encoder_hidden_states\n",
    "            )\n",
    "\n",
    "            logits, past_key_values = init_onnx_outputs\n",
    "\n",
    "        else:\n",
    "\n",
    "            onnx_outputs = self.decoder(\n",
    "                decoder_input_ids,\n",
    "                attention_mask,\n",
    "                encoder_hidden_states,\n",
    "                past_key_values,\n",
    "            )\n",
    "\n",
    "            logits, past_key_values = onnx_outputs\n",
    "\n",
    "        return Seq2SeqLMOutput(logits=logits, past_key_values=past_key_values)\n"
   ]
  },
  {
   "cell_type": "code",
   "execution_count": null,
   "metadata": {
    "id": "enpLQGkrzAT8"
   },
   "outputs": [],
   "source": [
    "class Predictor:\n",
    "    def __init__(self) -> None:\n",
    "        model_id = \"onnx_t5_small_0615_explain_quantized\"\n",
    "        onnx_model_paths = (\n",
    "            script_dir\n",
    "            + f\"{model_id}/copilot-encoder.onnx\",\n",
    "            script_dir\n",
    "            + f\"{model_id}/copilot-decoder.onnx\",\n",
    "            script_dir\n",
    "            + f\"{model_id}/copilot-init-decoder.onnx\",\n",
    "        )\n",
    "\n",
    "        config_path = (\n",
    "            script_dir + f\"{model_id}/config\"\n",
    "        )\n",
    "        model_sessions = get_onnx_runtime_sessions(onnx_model_paths)\n",
    "        self.model = OnnxT5(config_path, model_sessions)\n",
    "        self.tokenizer = AutoTokenizer.from_pretrained(\n",
    "            script_dir\n",
    "            + f\"{model_id}/tokenizer\",\n",
    "        )\n",
    "\n",
    "    def predict(self, prompt):\n",
    "        \"\"\"\n",
    "        Make predictions.\n",
    "        \"\"\"\n",
    "        prefix = \"<Splunk Instruction>: \"\n",
    "        # Tokenize English description\n",
    "        batch = self.tokenizer(\n",
    "            prefix+prompt,\n",
    "            max_length=512,\n",
    "            padding=\"max_length\",\n",
    "            return_tensors=\"pt\",\n",
    "        )\n",
    "\n",
    "        # Generate predictions using beam search\n",
    "        output = self.model.generate(\n",
    "            input_ids=batch[\"input_ids\"],\n",
    "            attention_mask=batch[\"attention_mask\"],\n",
    "            num_beams=5,\n",
    "            num_return_sequences=1,\n",
    "            repetition_penalty=5.0,\n",
    "            output_scores=True,\n",
    "            max_length=512,\n",
    "            return_dict_in_generate=True,\n",
    "        )\n",
    "\n",
    "        # Decode tokenized predictions\n",
    "        predictions = self.tokenizer.batch_decode(output[\"sequences\"], skip_special_tokens=True)\n",
    "\n",
    "        # Return results, capping at a maximum of 5 results\n",
    "        return predictions"
   ]
  },
  {
   "cell_type": "code",
   "execution_count": null,
   "metadata": {
    "id": "GGdtjmN37xOv"
   },
   "outputs": [],
   "source": [
    "def spl_writer(query):\n",
    "  predictor = Predictor()\n",
    "  result = predictor.predict(query)\n",
    "  return result"
   ]
  },
  {
   "cell_type": "markdown",
   "metadata": {
    "id": "cmgZzKmJm_K3"
   },
   "source": [
    "# Splunk AI Example"
   ]
  },
  {
   "cell_type": "code",
   "execution_count": null,
   "metadata": {
    "id": "el_BVe3Ek86z"
   },
   "outputs": [],
   "source": [
    "query = \"Write a splunk query that lists users with failed logon attempts\"\n",
    "result = spl_writer(query)\n",
    "task_output = result[0][3:-3]"
   ]
  },
  {
   "cell_type": "code",
   "execution_count": null,
   "metadata": {
    "colab": {
     "base_uri": "https://localhost:8080/"
    },
    "id": "2NnPz7z6MRe4",
    "outputId": "4bb31b6a-750e-419d-98b9-526c40aabc9c"
   },
   "outputs": [],
   "source": [
    "print(task_output)"
   ]
  },
  {
   "cell_type": "code",
   "execution_count": null,
   "metadata": {
    "id": "oaiBJH2-MuFE"
   },
   "outputs": [],
   "source": [
    "query = \"Write a splunk query to detect ADCS ESC1\"\n",
    "result = spl_writer(query)\n",
    "task_output = result[0][3:-3]"
   ]
  },
  {
   "cell_type": "code",
   "execution_count": null,
   "metadata": {
    "colab": {
     "base_uri": "https://localhost:8080/"
    },
    "id": "BiyLmcucMu6F",
    "outputId": "14608a82-8de4-4efe-9710-729e3b47e01e"
   },
   "outputs": [],
   "source": [
    "print(task_output)"
   ]
  },
  {
   "cell_type": "markdown",
   "metadata": {
    "id": "myelODVwCPgw"
   },
   "source": [
    "# Engineering SplunkGPT\n",
    "\n",
    "\n",
    "## Prompt Engineering Methods and Chaining it Together\n",
    "Reference:\n",
    "\n",
    "https://www.promptingguide.ai/techniques/cot\n",
    "\n",
    "https://github.com/gkamradt/langchain-tutorials/blob/main/LangChain%20Cookbook%20Part%201%20-%20Fundamentals.ipynb\n",
    "\n",
    "\n",
    "### Zero Shot\n",
    "Asking a LLM to conduct a task without any examples.\n",
    "\n",
    "This first example in the cookbook illustrates the zeroshot prompt engineering method without utilizing any additional tools like LangChain to simply highlight this fundamental prompt method. One thing we will notice, is the results of this prompt is better than with our tuned model, the reason being the model selected has been training on a larger set of data, but also allows for the user to specify the message type.\n",
    "\n",
    "#### Chat Message Types\n",
    "Like text, but specified with a message type (System, User, Assisstant)\n",
    "\n",
    "- **System** - Helpful background context that tell the AI what to do\n",
    "- **User** - Messages that are intented to represent the user\n",
    "- **Assisstant** - Messages that show what the AI responded with\n"
   ]
  },
  {
   "cell_type": "code",
   "execution_count": null,
   "metadata": {
    "id": "TFSOuwXCKLFt"
   },
   "outputs": [],
   "source": [
    "zero_shot_prompt = \"Write a splunk query that lists users with failed logon attempts\"\n",
    "zero_shot_response = openai.ChatCompletion.create(\n",
    "    model=\"gpt-3.5-turbo\",\n",
    "    messages=[\n",
    "        {\"role\": \"system\", \"content\": \"You are a cybersecurity analyst and an expert in Splunk\"},\n",
    "        {\"role\": \"user\", \"content\": zero_shot_prompt},\n",
    "    ],\n",
    "    temperature=1,\n",
    ")\n"
   ]
  },
  {
   "cell_type": "code",
   "execution_count": null,
   "metadata": {
    "colab": {
     "base_uri": "https://localhost:8080/"
    },
    "id": "h00OrgCuMg3u",
    "outputId": "7e9da312-c3f8-4ca8-e391-2605c12d52e6"
   },
   "outputs": [],
   "source": [
    "print(zero_shot_response.choices[0].message.content)"
   ]
  },
  {
   "cell_type": "markdown",
   "metadata": {
    "id": "qkk5fGVIDkFm"
   },
   "source": [
    "### Few Shot\n",
    "\n",
    " LLMs can fall short on more complex tasks when using the zero-shot setting as we saw in the first example with davinci. Few-shot prompting can be used as a technique to enable in-context learning where we provide demonstrations in the prompt to steer the model to better performance."
   ]
  },
  {
   "cell_type": "code",
   "execution_count": null,
   "metadata": {
    "id": "2U7U-f-FDmcI"
   },
   "outputs": [],
   "source": [
    "# insert code here\n",
    "few_shot_prompt = \"\"\"\n",
    "    Is the following comment positive or negative?\n",
    "    This presentation is great!\n",
    "\n",
    "    Examples:\n",
    "    I love Bsides! //positive\n",
    "    I hate mushrooms on pizza! // negative\n",
    "    One Piece is an amazing show! //positive\n",
    "    My dog is covered in mud! // negative\n",
    "    \"\"\"\n",
    "few_shot_response = openai.ChatCompletion.create(\n",
    "    model=\"gpt-3.5-turbo\",\n",
    "    messages=[\n",
    "        {\"role\": \"system\", \"content\": \"You are a helpful assistant that determines if a comment was positive or negative\"},\n",
    "        {\"role\": \"user\", \"content\": few_shot_prompt},\n",
    "    ],\n",
    "    temperature=0.2,\n",
    ")\n"
   ]
  },
  {
   "cell_type": "code",
   "execution_count": null,
   "metadata": {
    "colab": {
     "base_uri": "https://localhost:8080/"
    },
    "id": "DX7P2oTcOUM9",
    "outputId": "2e8d4e10-4d01-478c-9cad-4b56533aa56c"
   },
   "outputs": [],
   "source": [
    "print(few_shot_response.choices[0].message.content)"
   ]
  },
  {
   "cell_type": "markdown",
   "metadata": {
    "id": "bTEN2TpIDnac"
   },
   "source": [
    "### Chain of Thought\n",
    "Chain-of-Thought (CoT) prompting enables complex reasoning capabilities through intermediate reasoning steps"
   ]
  },
  {
   "cell_type": "code",
   "execution_count": null,
   "metadata": {
    "id": "k6KekOwWDq5Y"
   },
   "outputs": [],
   "source": [
    "# insert code here\n",
    "chain_of_thought_prompt = \"\"\"\n",
    "\n",
    "    You have the following objective: create a splunk query to detect a kerberoasting attack. Create a list of step\n",
    "    by step actions to accomplish the goal. Use at most 5 steps.\n",
    "\"\"\"\n",
    "chain_of_thought_response = openai.ChatCompletion.create(\n",
    "    model=\"gpt-3.5-turbo\",\n",
    "    messages=[\n",
    "        {\"role\": \"system\", \"content\": \"\"\"You are a task creation AI called SplunkGPT. You are not a part of any system or device.\n",
    "        You first understand the problem, then extract relevant data sources, fields, and field values based on the objective provided, and lastly make and devise a complete plan.\n",
    "        The final step of the plan should always be to interpret the results.\"\"\"},\n",
    "        {\"role\": \"user\", \"content\": chain_of_thought_prompt},\n",
    "    ],\n",
    "    temperature=1,\n",
    ")\n"
   ]
  },
  {
   "cell_type": "code",
   "execution_count": null,
   "metadata": {
    "colab": {
     "base_uri": "https://localhost:8080/"
    },
    "id": "zL9TwpgtXjLt",
    "outputId": "b3804606-cace-4273-8a43-56a028593edc"
   },
   "outputs": [],
   "source": [
    "print(chain_of_thought_response.choices[0].message.content)"
   ]
  },
  {
   "cell_type": "markdown",
   "metadata": {
    "id": "NbDRZNBnDrl_"
   },
   "source": [
    "### Plan and Solve\n",
    "An adaptation of CoT, Plan and Solve prompting works by devise a plan to solve the problem by generating a step-by-step plan and carrying out the plan to find the answer. In turn it guides the LLM each step of the way to the results you're looking for."
   ]
  },
  {
   "cell_type": "code",
   "execution_count": null,
   "metadata": {
    "id": "I2MvTmiGDuMf"
   },
   "outputs": [],
   "source": [
    "# insert code here\n",
    "plan_and_solve_prompt = \"\"\"\n",
    "\n",
    "    You have the following objective: create a splunk query to detect a kerberoasting attack. Create a list of step\n",
    "    by step actions to accomplish the goal. Use at most 4 steps.\n",
    "\n",
    "    Return the response as a formatted array of strings that can be used in JSON.parse()\n",
    "\n",
    "    Examples:\n",
    "    [\"Search the web for NBA news relating to Stephen Curry\", \"Write a report on the financial state of Nike\"]\n",
    "    [\"Create a function to add a new vertex with a specified weight to the digraph.\"]\n",
    "    [\"Search for any additional information on Bertie W.\", \"Research the best kentucky fried Chicken recipe\"]\n",
    "    \"\"\"\n",
    "plan_and_solve_response = openai.ChatCompletion.create(\n",
    "    model=\"gpt-3.5-turbo\",\n",
    "    messages=[\n",
    "        {\"role\": \"system\", \"content\": \"\"\"You are a task creation AI called SplunkGPT. You are not a part of any system or device.\n",
    "        You first understand the problem, then extract relevant data sources, fields, and field values based on the objective provided, and lastly make and devise a complete plan.\n",
    "        The final step of the plan should always be to interpret the results.\"\"\"},\n",
    "        {\"role\": \"user\", \"content\": few_shot_prompt},\n",
    "    ],\n",
    "    temperature=1,\n",
    ")"
   ]
  },
  {
   "cell_type": "code",
   "execution_count": null,
   "metadata": {
    "colab": {
     "base_uri": "https://localhost:8080/"
    },
    "id": "yFXQFb1lT5mI",
    "outputId": "4d38d3fc-377b-4354-fa31-fa79777f702d"
   },
   "outputs": [],
   "source": [
    "print(plan_and_solve_response.choices[0].message.content)"
   ]
  },
  {
   "cell_type": "markdown",
   "metadata": {
    "id": "R9Wnaa0MDun6"
   },
   "source": [
    "### Chaining with... LangChain?\n",
    "We've briefly covered some fundamental prompt engineering methods, but before we jump into some more advanced ones lets cover how they can be chained together with additional tools to achieve greater results...\n",
    "\n",
    "LangChain is a framework for developing applications powered by language models.\n",
    "\n",
    "LangChain makes the complicated parts of working & building with AI models easier. It helps do this in two ways:\n",
    "\n",
    "- **Integration** - Bring external data, such as your files, other applications, and api data, to your LLMs\n",
    "- **Agency** - Allow your LLMs to interact with it's environment via decision making. Use LLMs to help decide which action to take next\n",
    "\n",
    "Think of it as litterally a way to chain together concepts, tools, and methodologies into a larger application.\n",
    "\n",
    "### Reasoning and Acting\n",
    "This method is used to generate both reasoning traces and task-specific actions in a way that can be interwoven between each step.\n",
    "\n",
    "Generating reasoning traces allow the model to induce, track, and update action plans, and even handle exceptions. The action step allows to interface with and gather information from external sources (Google) such as knowledge bases or environments.\n",
    "\n",
    "The example below is not the typical method to utilize the ReAct framework with serpapi, but we wanted to illustrate how the following could be deconstructed and repurposed as we did!\n",
    "```\n",
    "#Typical example of ReAct being used\n",
    "toolkit = load_tools([\"serpapi\"], llm=llm, serpapi_api_key=serpapi_api_key)\n",
    "agent = initialize_agent(toolkit, llm, agent=\"zero-shot-react-description\", verbose=True, return_intermediate_steps=True)\n",
    "response = agent({\"input\":\"what was the title of the first episode of rick and morty season 3?\"})\n",
    "```"
   ]
  },
  {
   "cell_type": "code",
   "execution_count": null,
   "metadata": {
    "colab": {
     "base_uri": "https://localhost:8080/"
    },
    "id": "3_UKE9nQDxL-",
    "outputId": "b512b8b0-f453-4191-dba9-b2641626c888"
   },
   "outputs": [],
   "source": [
    "#initialize the LLM with LangChains\n",
    "gpt3_llm = ChatOpenAI(model_name=\"gpt-3.5-turbo-16k\",\n",
    "                temperature=1, # temperature affects the freedom or \"randomness\" of GPT3\n",
    "                max_tokens=3000, # limits the max output of GPT3 for cost saving\n",
    "                model_kwargs={\n",
    "                    'frequency_penalty':0.2, # frequency pentalty discourages the model from frequently repeating the same phrase or idea.\n",
    "                    'presence_penalty': 0 # presence penalty penalizes tokens based on whether they've already appeared in the text\n",
    "                    },\n",
    "                openai_api_key=openai_api_key)\n",
    "# Pulled ReAct prompt from https://github.com/langchain-ai/langchain/issues/4044 and modified it slightly to highlight how LangChains's SerpAPI wrapper works\n",
    "\n",
    "PREFIX = \"\"\"You are a world class detection engineer and cyber security analyst. You will produce facts based detection procedures.\n",
    "Answer the following question(s) as best you can. Do not include how you would access the logs or data. Only provide the windows event code and what information that event code contains.\n",
    "You will priortize searching for specific event code ids, field names, and values for field names.\n",
    "You have access to the following tools:\"\"\"\n",
    "\n",
    "FORMAT_INSTRUCTIONS = \"\"\"Use the following format:\n",
    "\n",
    "  Question: the input question you must answer\n",
    "  Thought: you should always think about what to do. Your goal is to identify the logs, field names, and values for the field names that would help answer the question.\n",
    "  Action: the action to take, should be one of [{tool_names}]\n",
    "  Action Input: the input to the action\n",
    "  Observation: the result of the action\n",
    "  ... (this Thought/Action/Action Input/Observation can repeat N times)\n",
    "  Thought: I now know the final answer\n",
    "  Final Answer: the final answer to the original input question\"\"\"\n",
    "SUFFIX = \"\"\"Begin!\n",
    "\n",
    "Question: {input}\n",
    "Thought:{agent_scratchpad}\"\"\"\n",
    "\n",
    "\n",
    "# import serpapi tool into langchains to search google and interpret results\n",
    "# https://api.python.langchain.com/en/latest/utilities/langchain.utilities.serpapi.SerpAPIWrapper.html\n",
    "tools = load_tools([\"serpapi\"])\n",
    "\n",
    "#initialize google search agent\n",
    "ReAct_agent = initialize_agent(\n",
    "    tools=tools, # import tools\n",
    "    llm=gpt3_llm, # import LLM\n",
    "    agent=AgentType.ZERO_SHOT_REACT_DESCRIPTION, # specify prompt engineering method\n",
    "    agent_kwargs={\n",
    "        'prefix':PREFIX, # similar to setting the role type in GPT\n",
    "        'format_instructions':FORMAT_INSTRUCTIONS, # react format\n",
    "        'suffix':SUFFIX # assisstant role to react framework to interpret results\n",
    "    },\n",
    "    verbose=True # shows step by step output\n",
    "    )\n",
    "\n",
    "ReAct_search = ReAct_agent.run(\"Identify which windows event codes could be used to detect the Active Directory Certicate Services (AD CS) Escalation Path 1 attack\")"
   ]
  },
  {
   "cell_type": "code",
   "execution_count": null,
   "metadata": {
    "id": "FdTQC_i5AhDF"
   },
   "outputs": [],
   "source": [
    "print(ReAct_search)"
   ]
  },
  {
   "cell_type": "markdown",
   "metadata": {
    "id": "YgwnIwS8Dy5X"
   },
   "source": [
    "# Memory Managment with Vector Databases\n",
    "\n",
    "Change your text into a vector (a series of numbers that hold the semantic 'meaning' of your text). Mainly used when comparing two pieces of text together. Semantic means 'relating to meaning in language or logic.'\n",
    "\n",
    "Databases to store vectors. Most popular ones are Pinecone & Weaviate. More examples on OpenAIs retriever documentation. Chroma & FAISS are easy to work with locally.\n",
    "\n",
    "Conceptually, think of them as tables w/ a column for embeddings (vectors) and a column for metadata.\n",
    "\n",
    "This enables LLMs to reference information it was never trained with, overcome memory limitations, and create an agent with the ability to reference offline/senesitive material!\n",
    "\n",
    "\n"
   ]
  },
  {
   "cell_type": "code",
   "execution_count": null,
   "metadata": {
    "id": "PT5Du6u8EBMI"
   },
   "outputs": [],
   "source": [
    "# references\n",
    "# https://python.langchain.com/docs/modules/data_connection/vectorstores/\n",
    "# https://python.langchain.com/docs/modules/data_connection/retrievers/\n",
    "\n",
    "# Get your splitter ready\n",
    "loader = TextLoader('BlogPostSplunkGPT.txt')\n",
    "doc = loader.load()\n",
    "text_splitter = RecursiveCharacterTextSplitter(chunk_size=3000, chunk_overlap=0)\n",
    "# Split the document into texts\n",
    "docs = text_splitter.split_documents(doc)\n",
    "# Embedd your text\n",
    "embeddings = OpenAIEmbeddings(openai_api_key=openai_api_key)\n",
    "docsearch = FAISS.from_documents(docs, embeddings)\n",
    "\n",
    "#retrieve information from your vector DB\n",
    "research_llm = ChatOpenAI(temperature=0, model=\"gpt-3.5-turbo-16k-0613\")\n",
    "qa = RetrievalQA.from_chain_type(llm=research_llm, chain_type=\"stuff\", retriever=docsearch.as_retriever())\n",
    "\n",
    "query = \"What are the 3 MITRE ATT&CK Techniques in the BsidesAugusta Supply Chain Compromise?\"\n",
    "answer = qa.run(query)"
   ]
  },
  {
   "cell_type": "code",
   "execution_count": null,
   "metadata": {
    "colab": {
     "base_uri": "https://localhost:8080/"
    },
    "id": "EKoSjcr7dchG",
    "outputId": "7c0b2a7b-44a7-4f09-90b8-419be159e990"
   },
   "outputs": [],
   "source": [
    "print(answer)"
   ]
  },
  {
   "cell_type": "markdown",
   "metadata": {
    "id": "JWOsmTnLD_DY"
   },
   "source": [
    "# Tools for Interaction\n",
    "We've demonstrated how the ReAct method utilized the serpapi to research information that had to be scrapped online. With LangChains, the integration of a tool isnt limited to only 1 tool or predefined tools. Custom tools can also be integrated into LangChains!\n",
    "\n",
    "List of tools: https://js.langchain.com/docs/api/tools/"
   ]
  },
  {
   "cell_type": "code",
   "execution_count": null,
   "metadata": {
    "colab": {
     "base_uri": "https://localhost:8080/"
    },
    "id": "Qf4vZGYhEAMG",
    "outputId": "505ab4c2-0787-4b37-a74a-e66f5b815cde"
   },
   "outputs": [],
   "source": [
    "llm = OpenAI(model_name=\"text-davinci-003\" ,temperature=0)\n",
    "tools = load_tools([\"google-serper\", \"llm-math\"], llm=llm)\n",
    "agent = initialize_agent(tools, llm, agent=\"zero-shot-react-description\", verbose=True)\n",
    "multi_tool_results = agent.run(\"When is bsides augusta? How long ago was that from December 2, 2013?\")"
   ]
  },
  {
   "cell_type": "code",
   "execution_count": null,
   "metadata": {
    "colab": {
     "base_uri": "https://localhost:8080/"
    },
    "id": "eLXjkjHaxItQ",
    "outputId": "8c410748-11de-4969-b345-323240326110"
   },
   "outputs": [],
   "source": [
    "print(multi_tool_results)"
   ]
  },
  {
   "cell_type": "markdown",
   "metadata": {
    "id": "OdUUFCfrEMRy"
   },
   "source": [
    "# Creating the Agent\n",
    "\n",
    "Some applications will require not just a predetermined chain of calls to LLMs/other tools, but potentially an unknown chain that depends on the user's input. In these types of chains, there is a “agent” which has access to a suite of tools. Depending on the user input, the agent can then decide which, if any, of these tools to call.\n",
    "\n",
    "Essentially if you need something that can do more than just output text, an agent can be utilized to make decisions based on a user input through calls to multiple functions.\n",
    "\n",
    "## Function calls\n",
    "Based on the requirement of the agent, a call to a specific capability may be needed to help solve the problem and inform a decision. SplunkGPT accomplishes this by integrating the Plan and Solve framework into its decision making process.\n",
    "\n",
    "Here is a breakdown of how SplunkGPT calls each function\n"
   ]
  },
  {
   "cell_type": "markdown",
   "metadata": {
    "id": "SoP9rfOjeVq4"
   },
   "source": [
    "![SplunkGPT-Logical-Loops.drawio.png](data:image/png;base64,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)"
   ]
  },
  {
   "cell_type": "code",
   "execution_count": null,
   "metadata": {
    "id": "QSdyNoGyEQ4h"
   },
   "outputs": [],
   "source": [
    "# For instructional purposes, here's an example output from SplunkGPT's Plan and Solve Prompt\n",
    "context_response = \"\"\"\n",
    "{\n",
    "    \"tasks\": [\n",
    "        {\n",
    "            \"id\": 1,\n",
    "            \"description\": \"Write a Splunk SPL query to detect a BsidesAugusta attack. The query should include searching for Windows Event ID 7040 and 7036 in the System event logs to identify hosts with the service BsidesAugusta installed.\",\n",
    "            \"agent\": \"spl_writer_agent\",\n",
    "            \"isolated_context\": \"Based on the detection procedures, the Splunk SPL query should search the System event logs for Windows Event ID 7040 and 7036. These event IDs indicate changes in the start type of a Windows service and the stopped/running state of a Windows service respectively. The query should specifically look for these event IDs related to the service 'BsidesAugusta' to identify hosts with this service installed.\"\n",
    "        },\n",
    "        {\n",
    "            \"id\": 2,\n",
    "            \"description\": \"Edit the existing SPL query to filter for relevant fields such as Windows Event ID, Field Names, and Data. This will help in narrowing down the search results and focusing on the required information.\",\n",
    "            \"agent\": \"spl_filter_agent\",\n",
    "            \"isolated_context\": \"Building on the previous task, the existing SPL query needs to be edited to include filters for relevant fields such as Windows Event ID, Field Names, and Data. These filters will help in narrowing down the search results and focusing only on the required information related to the BsidesAugusta attack.\"\n",
    "        },\n",
    "        {\n",
    "            \"id\": 3,\n",
    "            \"description\": \"Refactor the existing SPL query to ensure the proper index, source, and field names are used. This will ensure that the query is executed on the correct data source and the relevant fields are considered for analysis.\",\n",
    "            \"agent\": \"spl_refactor_agent\",\n",
    "            \"isolated_context\": \"Continuing from the previous task, it is important to refactor the existing SPL query to include the proper index, source, and field names. This will ensure that the query is executed on the correct data source and the relevant fields are considered for analysis. The index, source, and field names should be specified based on the organization's Splunk configuration.\"\n",
    "        },\n",
    "        {\n",
    "            \"id\": 4,\n",
    "            \"description\": \"Apply a statistical analysis of the current SPL query using SPL commands such as stats, where, or table to detect patterns indicative of a BsidesAugusta attack. This analysis will help in identifying any suspicious patterns or anomalies in the data.\",\n",
    "            \"agent\": \"spl_statistical_analysis_agent\",\n",
    "            \"isolated_context\": \"To detect patterns indicative of a BsidesAugusta attack, a statistical analysis needs to be applied to the current SPL query. SPL commands such as stats, where, or table can be used for this purpose. The analysis should focus on identifying any suspicious patterns or anomalies in the data that may indicate an ongoing BsidesAugusta attack.\"\n",
    "        },\n",
    "        {\n",
    "            \"id\": 5,\n",
    "            \"description\": \"Run a Splunk SPL search using the developed SPL query to identify instances of a BsidesAugusta attack. This search will execute the query and provide results indicating any occurrences of the attack.\",\n",
    "            \"agent\": \"splunk_executor_agent\",\n",
    "            \"isolated_context\": \"After developing and refining the SPL query, it needs to be executed by running a Splunk SPL search. This search will execute the query and provide results indicating any occurrences of a BsidesAugusta attack. The search results will help in identifying specific instances of the attack.\"\n",
    "        },\n",
    "        {\n",
    "            \"id\": 6,\n",
    "            \"description\": \"Analyze the results of the Splunk search to determine if a BsidesAugusta attack has occurred. This analysis will involve reviewing the search results and looking for any evidence or indicators of the attack.\",\n",
    "            \"agent\": \"analysis_agent\",\n",
    "            \"isolated_context\": \"Once the Splunk search is completed, the results need to be analyzed to determine if a BsidesAugusta attack has occurred. This analysis involves reviewing the search results and looking for any evidence or indicators of the attack. The analysis should consider the patterns, anomalies, and any other relevant information identified during the search.\"\n",
    "        }\n",
    "    ]\n",
    "}\n",
    "\"\"\""
   ]
  },
  {
   "cell_type": "code",
   "execution_count": null,
   "metadata": {
    "colab": {
     "base_uri": "https://localhost:8080/"
    },
    "id": "OkcbUmkHxVBD",
    "outputId": "0e574bfd-11b1-486c-994b-5ee4dca44b47"
   },
   "outputs": [],
   "source": [
    "# loading task created by Plan and Solve Prompt\n",
    "task_json = json.loads(context_response)\n",
    "task_list_json = task_json[\"tasks\"]\n",
    "\n",
    "# looping through each id in the task list and determining which function to call\n",
    "for task in task_list_json:\n",
    "  # load each field in the JSON\n",
    "  task_description = task[\"description\"]\n",
    "  task_isolated_context = task[\"isolated_context\"]\n",
    "  task_agent_reccomendation = task[\"agent\"]\n",
    "  chosen_agent = task[\"agent\"]\n",
    "\n",
    "  if chosen_agent == \"splunk_executor_agent\":\n",
    "    print(\"splunk_executor_agent\")\n",
    "    while True:\n",
    "      human_answer = input(\"Would you like to modify the final query before executing? (Yes/No): \")\n",
    "      if human_answer.lower() in [\"yes\", \"y\"]:\n",
    "          #human_input = input(\"What would you like to modify? \")\n",
    "          print(\"What would you like to modify? \\n\")\n",
    "          print(\"Remove the string spl from the first line of the query\")\n",
    "          # Function call to human interaction. This portion would be used to modify the final SPL query before it is ran\n",
    "          \"\"\"\n",
    "            context_response = splunk_human_input_agent_chain.predict(\n",
    "            human_input=human_input,\n",
    "            query=context_response\n",
    "          )\n",
    "          \"\"\"\n",
    "          context_response = \"\"\"\n",
    "          index=main sourcetype=\"WinEventLog:System\" (EventCode=7040 OR EventCode=7036) BsidesAugusta\n",
    "            | fields Account_Domain, Account_Name, Additional_Information\n",
    "            | stats count by Account_Domain, Account_Name, Additional_Information\n",
    "            | where count > 1\n",
    "          \"\"\"\n",
    "          print(f\"Output from SPL Executer Agent:\\n\\n{context_response}\\n\\n Is it good? \\n\\n\")\n",
    "      else:\n",
    "          human_input = \"No updates required\"\n",
    "          \"\"\"\n",
    "          context_response = splunk_human_input_agent_chain.predict(\n",
    "            human_input=human_input,\n",
    "            query=context_response\n",
    "          )\n",
    "          \"\"\"\n",
    "          print(f\"Output from SPL Executer Agent:\\n\\n{context_response}\\n\\nIs it good?\\n\\n\")\n",
    "          break\n",
    "  else:\n",
    "    # SplunkGPT Agent for building the SPL\n",
    "    if chosen_agent == \"spl_writer_agent\":\n",
    "      # create the baseline for a splunk query\n",
    "      \"\"\"\n",
    "      context_response = spl_writer_agent_testing_chain.predict(\n",
    "          objective=objective,\n",
    "          task=task_description,\n",
    "          isolated_context=task_isolated_context\n",
    "          )\n",
    "      \"\"\"\n",
    "      context_response = \"splunk_query = index=system sourcetype=WinEventLog:System (EventCode=7040 OR EventCode=7036) BsidesAugusta\"\n",
    "\n",
    "      print(f\"Output from SPL Writer Agent:\\n\\n{context_response}\\n\\n\")\n",
    "\n",
    "    elif chosen_agent == 'spl_filter_agent':\n",
    "      #adjusts the query based off of the fields from the research it conducted\n",
    "      \"\"\"\n",
    "      input_variables=[\"objective\", \"task\",\"previous_query\", \"isolated_context\"],\n",
    "      \"\"\"\n",
    "      print(\"spl_filter_agent\")\n",
    "\n",
    "      \"\"\"\n",
    "      context_response = spl_filter_agent_chain.predict(\n",
    "          objective=objective,\n",
    "          task=task_description,\n",
    "          previous_query=context_response,\n",
    "          isolated_context=task_isolated_context\n",
    "          )\n",
    "      \"\"\"\n",
    "      context_response = \"index=main sourcetype=\\\"WinEventLog:System\\\" (EventCode=7040 OR EventCode=7036) BsidesAugusta | fields Account_Domain, Account_Name, Additional_Information\"\n",
    "\n",
    "      print(f\"Output from SPL Filter Agent:\\n\\n{context_response}\\n\\n\")\n",
    "    elif chosen_agent == \"spl_statistical_analysis_agent\":\n",
    "      # applies a mathmatical analysis of the the results to help with creating a detection\n",
    "      '''\n",
    "      spl_statistical_analysis_agent = PromptTemplate(\n",
    "      input_variables=[\"objective\", \"task\",\"previous_query\", \"isolated_context\"],\n",
    "      '''\n",
    "\n",
    "      print(\"spl_stats_agent\")\n",
    "      \"\"\"\n",
    "      context_response = spl_statistical_analysis_chain.predict(\n",
    "          objective=objective,\n",
    "          task=task_description,\n",
    "          previous_query=context_response,\n",
    "          isolated_context=task_isolated_context\n",
    "      )\n",
    "      \"\"\"\n",
    "      context_response = \"\"\"\n",
    "      spl\n",
    "      index=main sourcetype=\"WinEventLog:System\" (EventCode=7040 OR EventCode=7036) BsidesAugusta\n",
    "      | fields Account_Domain, Account_Name, Additional_Information\n",
    "      | stats count by Account_Domain, Account_Name, Additional_Information\n",
    "      | where count > 1\n",
    "      \"\"\"\n",
    "      print(f\"Output from SPL Stats Agent:\\n\\n{context_response}\\n\\n\")\n",
    "\n",
    "    elif chosen_agent == \"spl_refactor_agent\":\n",
    "      #adjusts the query based off of the fields and index names from the splunk server\n",
    "\n",
    "      '''\n",
    "      input_variables=[\"objective\",\"task_description\", \"objective\",\"isolated_context\",\"existing_spl\",\"command_execution_errors\"]\n",
    "      '''\n",
    "\n",
    "      print(\"spl_refactor_agent\")\n",
    "      \"\"\"\n",
    "      command_execution_errors = \"No Errors\"\n",
    "      context_response = spl_normalize_chain.predict(\n",
    "          existing_spl=context_response,\n",
    "          objective=objective,\n",
    "          splunk_info=splunk_info,\n",
    "          schema=schema\n",
    "      )\n",
    "      \"\"\"\n",
    "\n",
    "      context_response = \"\"\"\n",
    "      index=main sourcetype=\"WinEventLog:System\" (EventCode=7040 OR EventCode=7036) BsidesAugusta\n",
    "      | fields Account_Domain, Account_Name, Additional_Information\n",
    "      | stats count by Account_Domain, Account_Name, Additional_Information\n",
    "      | where count > 1\n",
    "      \"\"\"\n",
    "\n",
    "      print(f\"Output from SPL Refactor Agent:\\n\\n{context_response}\\n\\n\")\n",
    "\n",
    "print(\"running query \\n\\n\")\n",
    "\"\"\"\n",
    "final_data = run_splunk_search(final_query)\n",
    "\n",
    "splunk_results=[]\n",
    "\n",
    "for item in final_data:\n",
    "    #print(item)\n",
    "    splunk_results.append(item)\n",
    "\n",
    "#print(splunk_results)\n",
    "summary_response = spl_summary_chain.predict(\n",
    "          objective=objective,\n",
    "          query=context_response,\n",
    "          results=splunk_results\n",
    "      )\n",
    "print(summary_response)\n",
    "\"\"\"\n",
    "print(\"It appears the WIN10 host has been infected with the BsidesAugusta Supply Chain Compromise\")"
   ]
  }
 ],
 "metadata": {
  "colab": {
   "collapsed_sections": [
    "2PcFh3fXkaP6",
    "NhMEPlZTkf3p"
   ],
   "provenance": []
  },
  "kernelspec": {
   "display_name": "Python 3 (ipykernel)",
   "language": "python",
   "name": "python3"
  },
  "language_info": {
   "codemirror_mode": {
    "name": "ipython",
    "version": 3
   },
   "file_extension": ".py",
   "mimetype": "text/x-python",
   "name": "python",
   "nbconvert_exporter": "python",
   "pygments_lexer": "ipython3",
   "version": "3.11.5"
  }
 },
 "nbformat": 4,
 "nbformat_minor": 4
}
